{
  "nbformat": 4,
  "nbformat_minor": 0,
  "metadata": {
    "colab": {
      "provenance": [],
      "authorship_tag": "ABX9TyPCTiuf3DzsyIJQsqV1qrX9",
      "include_colab_link": true
    },
    "kernelspec": {
      "name": "python3",
      "display_name": "Python 3"
    },
    "language_info": {
      "name": "python"
    }
  },
  "cells": [
    {
      "cell_type": "markdown",
      "metadata": {
        "id": "view-in-github",
        "colab_type": "text"
      },
      "source": [
        "<a href=\"https://colab.research.google.com/github/2303A51192/DAA/blob/main/TEAM_DEATILS.ipynb\" target=\"_parent\"><img src=\"https://colab.research.google.com/assets/colab-badge.svg\" alt=\"Open In Colab\"/></a>"
      ]
    },
    {
      "cell_type": "code",
      "execution_count": null,
      "metadata": {
        "id": "zwjZDthZXMZI"
      },
      "outputs": [],
      "source": [
        "TEAM NUMBER  T021\n",
        "TEAM MEMBERS :\n",
        "K.MANIDEEP  2303A51192\n",
        "R.ARAVIND   2303A51215\n",
        "K.YASWANTH  2303A51195\n",
        "V.MUKESH    2303A51225\n",
        "K.RAM       2303A1196"
      ]
    }
  ]
}