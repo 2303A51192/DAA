{
  "nbformat": 4,
  "nbformat_minor": 0,
  "metadata": {
    "colab": {
      "provenance": [],
      "authorship_tag": "ABX9TyPnx74ssKoue5J5jtOxl8aK",
      "include_colab_link": true
    },
    "kernelspec": {
      "name": "python3",
      "display_name": "Python 3"
    },
    "language_info": {
      "name": "python"
    }
  },
  "cells": [
    {
      "cell_type": "markdown",
      "metadata": {
        "id": "view-in-github",
        "colab_type": "text"
      },
      "source": [
        "<a href=\"https://colab.research.google.com/github/2303A51192/DAA/blob/main/T021_DAA.ipynb\" target=\"_parent\"><img src=\"https://colab.research.google.com/assets/colab-badge.svg\" alt=\"Open In Colab\"/></a>"
      ]
    },
    {
      "cell_type": "code",
      "source": [
        "import java.util.HashMap;\n",
        "import java.util.Scanner;\n",
        "public class Main {\n",
        "    private static HashMap<String, String> faqDatabase = new HashMap<>();\n",
        "  public static void main(String[] args) {\n",
        "        initializeFAQs();\n",
        "\n",
        "        System.out.println(\"Welcome to the Rajasthan Technical Education Chatbot!\");\n",
        "        System.out.println(\"Type your question or 'exit' to quit.\");\n",
        "\n",
        "        Scanner scanner = new Scanner(System.in);\n",
        "\n",
        "        while (true) {\n",
        "            System.out.print(\"\\nYou: \");\n",
        "            String userInput = scanner.nextLine().trim().toLowerCase();\n",
        "\n",
        "            if (userInput.equals(\"exit\")) {\n",
        "                System.out.println(\"Chatbot: Thank you for using the chatbot. Goodbye!\");\n",
        "                break;\n",
        "            }\n",
        "\n",
        "\n",
        "            String response = getDynamicResponse(userInput);\n",
        "            System.out.println(\"Chatbot: \" + response);\n",
        "        }\n",
        "\n",
        "        scanner.close();\n",
        "    }\n",
        "\n",
        "    private static void initializeFAQs() {\n",
        "        faqDatabase.put(\"admission process\", \"The admission process involves filling out the application online via the official portal and submitting the required documents.\");\n",
        "        faqDatabase.put(\"eligibility criteria\", \"Eligibility criteria depend on the specific course. Generally, you need a minimum of 50% marks in qualifying exams.\");\n",
        "        faqDatabase.put(\"fee structure\", \"The fee structure varies between colleges. Please refer to the official website for detailed information.\");\n",
        "        faqDatabase.put(\"scholarships\", \"Various scholarships are available based on merit and need. Visit the scholarship section on our portal.\");\n",
        "        faqDatabase.put(\"hostel facilities\", \"Most colleges offer hostel facilities with basic amenities. Fees and availability vary.\");\n",
        "    }\n",
        "\n",
        "    private static String getDynamicResponse(String userInput) {\n",
        "        for (String key : faqDatabase.keySet()) {\n",
        "            if (userInput.contains(key)) {\n",
        "                return faqDatabase.get(key);\n",
        "            }\n",
        "        }\n",
        "\n",
        "        return \"Sorry, I don't have an answer to that right now. Please contact the Department of Technical Education for further assistance.\";\n",
        "    }\n",
        "}\n"
      ],
      "metadata": {
        "id": "ACXU5hkQObFN"
      },
      "execution_count": null,
      "outputs": []
    }
  ]
}